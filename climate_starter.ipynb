{
 "cells": [
  {
   "cell_type": "code",
   "execution_count": 1,
   "metadata": {},
   "outputs": [],
   "source": [
    "%matplotlib inline\n",
    "from matplotlib import style\n",
    "style.use('fivethirtyeight')\n",
    "import matplotlib.pyplot as plt"
   ]
  },
  {
   "cell_type": "code",
   "execution_count": 2,
   "metadata": {},
   "outputs": [],
   "source": [
    "import numpy as np\n",
    "import pandas as pd\n",
    "import datetime as dt"
   ]
  },
  {
   "cell_type": "markdown",
   "metadata": {},
   "source": [
    "# Reflect Tables into SQLAlchemy ORM"
   ]
  },
  {
   "cell_type": "code",
   "execution_count": 6,
   "metadata": {},
   "outputs": [],
   "source": [
    "# Python SQL toolkit and Object Relational Mapper\n",
    "import sqlalchemy\n",
    "from sqlalchemy.ext.automap import automap_base\n",
    "from sqlalchemy.orm import Session\n",
    "from sqlalchemy import create_engine, func, inspect"
   ]
  },
  {
   "cell_type": "code",
   "execution_count": 7,
   "metadata": {},
   "outputs": [],
   "source": [
    "# create engine to hawaii.sqlite\n",
    "engine = create_engine(\"sqlite:///Resources/hawaii.sqlite\")"
   ]
  },
  {
   "cell_type": "code",
   "execution_count": 10,
   "metadata": {},
   "outputs": [],
   "source": [
    "# reflect an existing database into a new model\n",
    "Base = automap_base()\n",
    "\n",
    "# reflect the tables\n",
    "Base.prepare(autoload_with=engine)"
   ]
  },
  {
   "cell_type": "code",
   "execution_count": 11,
   "metadata": {},
   "outputs": [
    {
     "data": {
      "text/plain": [
       "['measurement', 'station']"
      ]
     },
     "execution_count": 11,
     "metadata": {},
     "output_type": "execute_result"
    }
   ],
   "source": [
    "# View all of the classes that automap found\n",
    "Base.classes.keys()"
   ]
  },
  {
   "cell_type": "code",
   "execution_count": 12,
   "metadata": {},
   "outputs": [
    {
     "data": {
      "text/plain": [
       "sqlalchemy.ext.automap.measurement"
      ]
     },
     "execution_count": 12,
     "metadata": {},
     "output_type": "execute_result"
    }
   ],
   "source": [
    "# Save references to each table\n",
    "Measurement = Base.classes.measurement\n",
    "Measurement"
   ]
  },
  {
   "cell_type": "code",
   "execution_count": 13,
   "metadata": {},
   "outputs": [
    {
     "data": {
      "text/plain": [
       "sqlalchemy.ext.automap.station"
      ]
     },
     "execution_count": 13,
     "metadata": {},
     "output_type": "execute_result"
    }
   ],
   "source": [
    "Station = Base.classes.station\n",
    "Station"
   ]
  },
  {
   "cell_type": "code",
   "execution_count": 14,
   "metadata": {},
   "outputs": [],
   "source": [
    "# Create our session (link) from Python to the DB\n",
    "session = Session(engine)"
   ]
  },
  {
   "cell_type": "markdown",
   "metadata": {},
   "source": [
    "# Exploratory Precipitation Analysis"
   ]
  },
  {
   "cell_type": "code",
   "execution_count": 24,
   "metadata": {},
   "outputs": [
    {
     "name": "stdout",
     "output_type": "stream",
     "text": [
      "id INTEGER\n",
      "station TEXT\n",
      "date TEXT\n",
      "prcp FLOAT\n",
      "tobs FLOAT\n"
     ]
    }
   ],
   "source": [
    "#see columns in the measurement table\n",
    "columns = inspector.get_columns('measurement')\n",
    "for c in columns:\n",
    "    print(c['name'], c['type'])"
   ]
  },
  {
   "cell_type": "code",
   "execution_count": 25,
   "metadata": {},
   "outputs": [
    {
     "name": "stdout",
     "output_type": "stream",
     "text": [
      "id INTEGER\n",
      "station TEXT\n",
      "name TEXT\n",
      "latitude FLOAT\n",
      "longitude FLOAT\n",
      "elevation FLOAT\n"
     ]
    }
   ],
   "source": [
    "#see columns in the station table\n",
    "columns = inspector.get_columns('station')\n",
    "for c in columns:\n",
    "    print(c['name'], c['type'])"
   ]
  },
  {
   "cell_type": "code",
   "execution_count": 29,
   "metadata": {},
   "outputs": [
    {
     "data": {
      "text/plain": [
       "[(1, 'USC00519397', '2010-01-01', 0.08, 65.0),\n",
       " (2, 'USC00519397', '2010-01-02', 0.0, 63.0),\n",
       " (3, 'USC00519397', '2010-01-03', 0.0, 74.0),\n",
       " (4, 'USC00519397', '2010-01-04', 0.0, 76.0),\n",
       " (5, 'USC00519397', '2010-01-06', None, 73.0)]"
      ]
     },
     "execution_count": 29,
     "metadata": {},
     "output_type": "execute_result"
    }
   ],
   "source": [
    "engine.execute('SELECT * FROM measurement LIMIT 5').fetchall()"
   ]
  },
  {
   "cell_type": "code",
   "execution_count": 100,
   "metadata": {},
   "outputs": [
    {
     "data": {
      "text/plain": [
       "('2017-08-23',)"
      ]
     },
     "execution_count": 100,
     "metadata": {},
     "output_type": "execute_result"
    }
   ],
   "source": [
    "# Find the most recent date in the data set.\n",
    "session.query(Measurement.date).order_by(Measurement.date.desc()).first()"
   ]
  },
  {
   "cell_type": "code",
   "execution_count": 113,
   "metadata": {},
   "outputs": [
    {
     "data": {
      "text/html": [
       "<div>\n",
       "<style scoped>\n",
       "    .dataframe tbody tr th:only-of-type {\n",
       "        vertical-align: middle;\n",
       "    }\n",
       "\n",
       "    .dataframe tbody tr th {\n",
       "        vertical-align: top;\n",
       "    }\n",
       "\n",
       "    .dataframe thead th {\n",
       "        text-align: right;\n",
       "    }\n",
       "</style>\n",
       "<table border=\"1\" class=\"dataframe\">\n",
       "  <thead>\n",
       "    <tr style=\"text-align: right;\">\n",
       "      <th></th>\n",
       "      <th>prcp</th>\n",
       "    </tr>\n",
       "    <tr>\n",
       "      <th>date</th>\n",
       "      <th></th>\n",
       "    </tr>\n",
       "  </thead>\n",
       "  <tbody>\n",
       "    <tr>\n",
       "      <th>2016-08-23</th>\n",
       "      <td>0.00</td>\n",
       "    </tr>\n",
       "    <tr>\n",
       "      <th>2016-08-23</th>\n",
       "      <td>0.02</td>\n",
       "    </tr>\n",
       "    <tr>\n",
       "      <th>2016-08-23</th>\n",
       "      <td>0.05</td>\n",
       "    </tr>\n",
       "    <tr>\n",
       "      <th>2016-08-23</th>\n",
       "      <td>0.70</td>\n",
       "    </tr>\n",
       "    <tr>\n",
       "      <th>2016-08-23</th>\n",
       "      <td>0.15</td>\n",
       "    </tr>\n",
       "    <tr>\n",
       "      <th>...</th>\n",
       "      <td>...</td>\n",
       "    </tr>\n",
       "    <tr>\n",
       "      <th>2017-08-22</th>\n",
       "      <td>0.50</td>\n",
       "    </tr>\n",
       "    <tr>\n",
       "      <th>2017-08-23</th>\n",
       "      <td>0.00</td>\n",
       "    </tr>\n",
       "    <tr>\n",
       "      <th>2017-08-23</th>\n",
       "      <td>0.08</td>\n",
       "    </tr>\n",
       "    <tr>\n",
       "      <th>2017-08-23</th>\n",
       "      <td>0.00</td>\n",
       "    </tr>\n",
       "    <tr>\n",
       "      <th>2017-08-23</th>\n",
       "      <td>0.45</td>\n",
       "    </tr>\n",
       "  </tbody>\n",
       "</table>\n",
       "<p>2021 rows × 1 columns</p>\n",
       "</div>"
      ],
      "text/plain": [
       "            prcp\n",
       "date            \n",
       "2016-08-23  0.00\n",
       "2016-08-23  0.02\n",
       "2016-08-23  0.05\n",
       "2016-08-23  0.70\n",
       "2016-08-23  0.15\n",
       "...          ...\n",
       "2017-08-22  0.50\n",
       "2017-08-23  0.00\n",
       "2017-08-23  0.08\n",
       "2017-08-23  0.00\n",
       "2017-08-23  0.45\n",
       "\n",
       "[2021 rows x 1 columns]"
      ]
     },
     "execution_count": 113,
     "metadata": {},
     "output_type": "execute_result"
    }
   ],
   "source": [
    "# Design a query to retrieve the last 12 months of precipitation data and plot the results. \n",
    "# Starting from the most recent data point in the database. \n",
    "\n",
    "# Calculate the date one year from the last date in data set.\n",
    "yearago = dt.date(2017, 8, 23) - dt.timedelta(days=365)\n",
    "yearago\n",
    "\n",
    "# Perform a query to retrieve the data and precipitation scores\n",
    "dateandprcp = session.query(Measurement.date, Measurement.prcp).\\\n",
    "    filter(Measurement.date >= yearago).all()\n",
    "\n",
    "# Save the query results as a Pandas DataFrame and set the index to the date column\n",
    "dateandprcpdf = pd.DataFrame(dateandprcp)\n",
    "dateandprcpdf.set_index(\"date\", inplace=True)\n",
    "dateandprcpdf.dropna(inplace=True)\n",
    "\n",
    "# Sort the dataframe by date\n",
    "dateandprcpdf.sort_index(ascending=True)"
   ]
  },
  {
   "cell_type": "code",
   "execution_count": 186,
   "metadata": {},
   "outputs": [
    {
     "data": {
      "image/png": "[encoded data removed]",
      "text/plain": [
       "<Figure size 432x288 with 1 Axes>"
      ]
     },
     "metadata": {},
     "output_type": "display_data"
    }
   ],
   "source": [
    "# Use Pandas Plotting with Matplotlib to plot the data\n",
    "dateandprcpdf.plot.bar()\n",
    "plt.tight_layout()\n",
    "plt.xlabel(\"Date\")\n",
    "plt.ylabel(\"Inches\")\n",
    "plt.ylim(0, 4)\n",
    "plt.grid()\n",
    "plt.show()"
   ]
  },
  {
   "cell_type": "code",
   "execution_count": 86,
   "metadata": {},
   "outputs": [
    {
     "data": {
      "text/plain": [
       "count    2688.000000\n",
       "mean        0.138549\n",
       "std         0.411545\n",
       "min         0.000000\n",
       "25%         0.000000\n",
       "50%         0.010000\n",
       "75%         0.090000\n",
       "max         5.040000\n",
       "Name: prcp, dtype: float64"
      ]
     },
     "execution_count": 86,
     "metadata": {},
     "output_type": "execute_result"
    }
   ],
   "source": [
    "# Use Pandas to calculate the summary statistics for the precipitation data\n",
    "Prcp_summary = dateandprcpdf[\"prcp\"].describe()\n",
    "Prcp_summary"
   ]
  },
  {
   "cell_type": "markdown",
   "metadata": {},
   "source": [
    "# Exploratory Station Analysis"
   ]
  },
  {
   "cell_type": "code",
   "execution_count": 117,
   "metadata": {},
   "outputs": [
    {
     "name": "stdout",
     "output_type": "stream",
     "text": [
      "9\n"
     ]
    }
   ],
   "source": [
    "# Design a query to calculate the total number stations in the dataset\n",
    "totalstations = session.query(Station).distinct().count()\n",
    "print(totalstations)"
   ]
  },
  {
   "cell_type": "code",
   "execution_count": 187,
   "metadata": {},
   "outputs": [
    {
     "name": "stdout",
     "output_type": "stream",
     "text": [
      "USC00519397\n",
      "USC00513117\n",
      "USC00514830\n",
      "USC00517948\n",
      "USC00518838\n",
      "USC00519523\n",
      "USC00519281\n",
      "USC00511918\n",
      "USC00516128\n"
     ]
    }
   ],
   "source": [
    "totalstationsnames = session.query(Station)\n",
    "for stationname in totalstationsnames:\n",
    "    print(stationname.station)"
   ]
  },
  {
   "cell_type": "code",
   "execution_count": 145,
   "metadata": {},
   "outputs": [
    {
     "data": {
      "text/plain": [
       "[('USC00519281', 2772),\n",
       " ('USC00519397', 2724),\n",
       " ('USC00513117', 2709),\n",
       " ('USC00519523', 2669),\n",
       " ('USC00516128', 2612),\n",
       " ('USC00514830', 2202),\n",
       " ('USC00511918', 1979),\n",
       " ('USC00517948', 1372),\n",
       " ('USC00518838', 511)]"
      ]
     },
     "execution_count": 145,
     "metadata": {},
     "output_type": "execute_result"
    }
   ],
   "source": [
    "# Design a query to find the most active stations (i.e. what stations have the most rows?)\n",
    "# List the stations and the counts in descending order.\n",
    "session.query(Measurement.station, func.count(Measurement.station)).\\\n",
    "    group_by(Measurement.station).order_by(func.count(Measurement.station).desc()).all()"
   ]
  },
  {
   "cell_type": "code",
   "execution_count": 157,
   "metadata": {},
   "outputs": [
    {
     "name": "stdout",
     "output_type": "stream",
     "text": [
      "[(71.66378066378067,)]\n"
     ]
    }
   ],
   "source": [
    "# Using the most active station id from the previous query, calculate the lowest, highest, and average temperature.\n",
    "activestationmean = session.query(func.avg(Measurement.tobs)).\\\n",
    "    filter(Measurement.station == 'USC00519281').all()\n",
    "\n",
    "print(activestationmean)"
   ]
  },
  {
   "cell_type": "code",
   "execution_count": 158,
   "metadata": {},
   "outputs": [
    {
     "name": "stdout",
     "output_type": "stream",
     "text": [
      "[(85.0,)]\n"
     ]
    }
   ],
   "source": [
    "activestationmax = session.query(func.max(Measurement.tobs)).\\\n",
    "    filter(Measurement.station == 'USC00519281').all()\n",
    "\n",
    "print(activestationmax)"
   ]
  },
  {
   "cell_type": "code",
   "execution_count": 159,
   "metadata": {},
   "outputs": [
    {
     "name": "stdout",
     "output_type": "stream",
     "text": [
      "[(54.0,)]\n"
     ]
    }
   ],
   "source": [
    "activestationmin = session.query(func.min(Measurement.tobs)).\\\n",
    "    filter(Measurement.station == 'USC00519281').all()\n",
    "\n",
    "print(activestationmin)"
   ]
  },
  {
   "cell_type": "code",
   "execution_count": 173,
   "metadata": {},
   "outputs": [
    {
     "name": "stdout",
     "output_type": "stream",
     "text": [
      "[(77.0, '2016-08-23'), (77.0, '2016-08-24'), (80.0, '2016-08-25'), (80.0, '2016-08-26'), (75.0, '2016-08-27'), (73.0, '2016-08-28'), (78.0, '2016-08-29'), (77.0, '2016-08-30'), (78.0, '2016-08-31'), (80.0, '2016-09-01'), (80.0, '2016-09-02'), (78.0, '2016-09-03'), (78.0, '2016-09-04'), (78.0, '2016-09-05'), (73.0, '2016-09-06'), (74.0, '2016-09-07'), (80.0, '2016-09-08'), (79.0, '2016-09-09'), (77.0, '2016-09-10'), (80.0, '2016-09-11'), (76.0, '2016-09-12'), (79.0, '2016-09-13'), (75.0, '2016-09-14'), (79.0, '2016-09-15'), (78.0, '2016-09-16'), (79.0, '2016-09-17'), (78.0, '2016-09-18'), (78.0, '2016-09-19'), (76.0, '2016-09-20'), (74.0, '2016-09-21'), (77.0, '2016-09-22'), (78.0, '2016-09-23'), (79.0, '2016-09-24'), (79.0, '2016-09-25'), (77.0, '2016-09-26'), (80.0, '2016-09-27'), (78.0, '2016-09-28'), (78.0, '2016-09-29'), (78.0, '2016-09-30'), (77.0, '2016-10-01'), (79.0, '2016-10-02'), (79.0, '2016-10-03'), (79.0, '2016-10-04'), (79.0, '2016-10-05'), (75.0, '2016-10-06'), (76.0, '2016-10-07'), (73.0, '2016-10-08'), (72.0, '2016-10-09'), (71.0, '2016-10-10'), (77.0, '2016-10-11'), (79.0, '2016-10-12'), (78.0, '2016-10-13'), (79.0, '2016-10-14'), (77.0, '2016-10-15'), (79.0, '2016-10-16'), (77.0, '2016-10-17'), (78.0, '2016-10-18'), (78.0, '2016-10-19'), (78.0, '2016-10-20'), (78.0, '2016-10-21'), (77.0, '2016-10-22'), (74.0, '2016-10-23'), (75.0, '2016-10-24'), (76.0, '2016-10-25'), (73.0, '2016-10-26'), (76.0, '2016-10-27'), (74.0, '2016-10-28'), (77.0, '2016-10-29'), (76.0, '2016-10-30'), (76.0, '2016-10-31'), (74.0, '2016-11-01'), (75.0, '2016-11-02'), (75.0, '2016-11-03'), (75.0, '2016-11-04'), (75.0, '2016-11-05'), (71.0, '2016-11-06'), (63.0, '2016-11-07'), (70.0, '2016-11-08'), (68.0, '2016-11-09'), (67.0, '2016-11-10'), (77.0, '2016-11-11'), (74.0, '2016-11-12'), (77.0, '2016-11-13'), (76.0, '2016-11-14'), (76.0, '2016-11-15'), (75.0, '2016-11-16'), (76.0, '2016-11-17'), (75.0, '2016-11-18'), (73.0, '2016-11-19'), (75.0, '2016-11-20'), (73.0, '2016-11-21'), (75.0, '2016-11-22'), (74.0, '2016-11-23'), (75.0, '2016-11-24'), (74.0, '2016-11-25'), (75.0, '2016-11-26'), (73.0, '2016-11-27'), (75.0, '2016-11-28'), (73.0, '2016-11-29'), (73.0, '2016-11-30'), (74.0, '2016-12-01'), (70.0, '2016-12-02'), (72.0, '2016-12-03'), (70.0, '2016-12-04'), (67.0, '2016-12-05'), (67.0, '2016-12-06'), (69.0, '2016-12-07'), (70.0, '2016-12-08'), (68.0, '2016-12-09'), (69.0, '2016-12-10'), (69.0, '2016-12-11'), (66.0, '2016-12-12'), (65.0, '2016-12-13'), (68.0, '2016-12-14'), (62.0, '2016-12-15'), (75.0, '2016-12-16'), (70.0, '2016-12-17'), (69.0, '2016-12-18'), (76.0, '2016-12-19'), (76.0, '2016-12-20'), (74.0, '2016-12-21'), (73.0, '2016-12-22'), (71.0, '2016-12-23'), (74.0, '2016-12-24'), (74.0, '2016-12-25'), (72.0, '2016-12-26'), (71.0, '2016-12-27'), (72.0, '2016-12-28'), (74.0, '2016-12-29'), (69.0, '2016-12-30'), (67.0, '2016-12-31'), (72.0, '2017-01-01'), (70.0, '2017-01-02'), (64.0, '2017-01-03'), (63.0, '2017-01-04'), (63.0, '2017-01-05'), (62.0, '2017-01-06'), (70.0, '2017-01-07'), (70.0, '2017-01-08'), (62.0, '2017-01-09'), (62.0, '2017-01-10'), (63.0, '2017-01-11'), (65.0, '2017-01-12'), (69.0, '2017-01-13'), (77.0, '2017-01-14'), (70.0, '2017-01-15'), (74.0, '2017-01-16'), (69.0, '2017-01-17'), (72.0, '2017-01-18'), (71.0, '2017-01-19'), (69.0, '2017-01-20'), (71.0, '2017-01-21'), (71.0, '2017-01-22'), (72.0, '2017-01-23'), (72.0, '2017-01-24'), (69.0, '2017-01-25'), (70.0, '2017-01-26'), (66.0, '2017-01-27'), (65.0, '2017-01-28'), (69.0, '2017-01-29'), (68.0, '2017-01-30'), (68.0, '2017-01-31'), (68.0, '2017-02-01'), (59.0, '2017-02-02'), (60.0, '2017-02-03'), (70.0, '2017-02-04'), (73.0, '2017-02-05'), (75.0, '2017-02-06'), (64.0, '2017-02-07'), (59.0, '2017-02-08'), (59.0, '2017-02-09'), (62.0, '2017-02-10'), (68.0, '2017-02-11'), (70.0, '2017-02-12'), (73.0, '2017-02-13'), (79.0, '2017-02-14'), (75.0, '2017-02-15'), (65.0, '2017-02-16'), (70.0, '2017-02-17'), (74.0, '2017-02-18'), (70.0, '2017-02-19'), (70.0, '2017-02-20'), (71.0, '2017-02-21'), (71.0, '2017-02-22'), (71.0, '2017-02-23'), (69.0, '2017-02-24'), (61.0, '2017-02-25'), (67.0, '2017-02-26'), (65.0, '2017-02-27'), (72.0, '2017-02-28'), (71.0, '2017-03-01'), (73.0, '2017-03-02'), (72.0, '2017-03-03'), (77.0, '2017-03-04'), (73.0, '2017-03-05'), (67.0, '2017-03-06'), (62.0, '2017-03-07'), (64.0, '2017-03-08'), (67.0, '2017-03-09'), (66.0, '2017-03-10'), (81.0, '2017-03-11'), (69.0, '2017-03-12'), (66.0, '2017-03-13'), (67.0, '2017-03-14'), (69.0, '2017-03-15'), (66.0, '2017-03-16'), (68.0, '2017-03-17'), (65.0, '2017-03-18'), (74.0, '2017-03-19'), (69.0, '2017-03-20'), (72.0, '2017-03-21'), (73.0, '2017-03-22'), (72.0, '2017-03-23'), (71.0, '2017-03-24'), (76.0, '2017-03-25'), (77.0, '2017-03-26'), (76.0, '2017-03-27'), (74.0, '2017-03-28'), (68.0, '2017-03-29'), (73.0, '2017-03-30'), (71.0, '2017-03-31'), (74.0, '2017-04-01'), (75.0, '2017-04-02'), (70.0, '2017-04-03'), (67.0, '2017-04-04'), (71.0, '2017-04-05'), (67.0, '2017-04-06'), (74.0, '2017-04-07'), (77.0, '2017-04-08'), (78.0, '2017-04-09'), (67.0, '2017-04-10'), (70.0, '2017-04-11'), (69.0, '2017-04-12'), (69.0, '2017-04-13'), (74.0, '2017-04-14'), (78.0, '2017-04-15'), (71.0, '2017-04-16'), (67.0, '2017-04-17'), (68.0, '2017-04-18'), (67.0, '2017-04-19'), (76.0, '2017-04-20'), (69.0, '2017-04-21'), (72.0, '2017-04-22'), (76.0, '2017-04-23'), (68.0, '2017-04-24'), (72.0, '2017-04-25'), (74.0, '2017-04-26'), (70.0, '2017-04-27'), (67.0, '2017-04-28'), (72.0, '2017-04-29'), (60.0, '2017-04-30'), (65.0, '2017-05-01'), (75.0, '2017-05-02'), (70.0, '2017-05-03'), (75.0, '2017-05-04'), (70.0, '2017-05-05'), (79.0, '2017-05-06'), (75.0, '2017-05-07'), (70.0, '2017-05-08'), (67.0, '2017-05-09'), (74.0, '2017-05-10'), (70.0, '2017-05-11'), (75.0, '2017-05-12'), (76.0, '2017-05-13'), (77.0, '2017-05-14'), (74.0, '2017-05-15'), (74.0, '2017-05-16'), (74.0, '2017-05-17'), (69.0, '2017-05-18'), (68.0, '2017-05-19'), (76.0, '2017-05-20'), (74.0, '2017-05-21'), (71.0, '2017-05-22'), (71.0, '2017-05-23'), (74.0, '2017-05-24'), (74.0, '2017-05-25'), (74.0, '2017-05-26'), (74.0, '2017-05-27'), (80.0, '2017-05-28'), (74.0, '2017-05-29'), (72.0, '2017-05-30'), (75.0, '2017-05-31'), (80.0, '2017-06-01'), (76.0, '2017-06-02'), (76.0, '2017-06-03'), (77.0, '2017-06-04'), (75.0, '2017-06-05'), (75.0, '2017-06-06'), (75.0, '2017-06-07'), (75.0, '2017-06-08'), (72.0, '2017-06-09'), (74.0, '2017-06-10'), (74.0, '2017-06-11'), (74.0, '2017-06-12'), (76.0, '2017-06-13'), (74.0, '2017-06-14'), (75.0, '2017-06-15'), (73.0, '2017-06-16'), (79.0, '2017-06-17'), (75.0, '2017-06-18'), (72.0, '2017-06-19'), (72.0, '2017-06-20'), (74.0, '2017-06-21'), (72.0, '2017-06-22'), (72.0, '2017-06-23'), (77.0, '2017-06-24'), (71.0, '2017-06-25'), (73.0, '2017-06-26'), (76.0, '2017-06-27'), (77.0, '2017-06-28'), (76.0, '2017-06-29'), (76.0, '2017-06-30'), (79.0, '2017-07-01'), (81.0, '2017-07-02'), (76.0, '2017-07-03'), (78.0, '2017-07-04'), (77.0, '2017-07-05'), (74.0, '2017-07-06'), (75.0, '2017-07-07'), (78.0, '2017-07-08'), (78.0, '2017-07-09'), (69.0, '2017-07-10'), (72.0, '2017-07-11'), (74.0, '2017-07-12'), (74.0, '2017-07-13'), (76.0, '2017-07-14'), (80.0, '2017-07-15'), (80.0, '2017-07-16'), (76.0, '2017-07-17'), (76.0, '2017-07-18'), (76.0, '2017-07-19'), (77.0, '2017-07-20'), (77.0, '2017-07-21'), (77.0, '2017-07-22'), (82.0, '2017-07-23'), (75.0, '2017-07-24'), (77.0, '2017-07-25'), (75.0, '2017-07-26'), (76.0, '2017-07-27'), (81.0, '2017-07-28'), (82.0, '2017-07-29'), (81.0, '2017-07-30'), (76.0, '2017-07-31'), (77.0, '2017-08-04'), (82.0, '2017-08-05'), (83.0, '2017-08-06'), (77.0, '2017-08-13'), (77.0, '2017-08-14'), (77.0, '2017-08-15'), (76.0, '2017-08-16'), (76.0, '2017-08-17'), (79.0, '2017-08-18')]\n"
     ]
    }
   ],
   "source": [
    "# Using the most active station id\n",
    "# Query the last 12 months of temperature observation data for this station and plot the results as a histogram\n",
    "activestationlastyear = session.query(Measurement.tobs, Measurement.date).\\\n",
    "    filter(Measurement.station == 'USC00519281').\\\n",
    "    filter(Measurement.date >= yearago).all()\n",
    "print(activestationlastyear)"
   ]
  },
  {
   "cell_type": "code",
   "execution_count": 175,
   "metadata": {},
   "outputs": [
    {
     "data": {
      "text/html": [
       "<div>\n",
       "<style scoped>\n",
       "    .dataframe tbody tr th:only-of-type {\n",
       "        vertical-align: middle;\n",
       "    }\n",
       "\n",
       "    .dataframe tbody tr th {\n",
       "        vertical-align: top;\n",
       "    }\n",
       "\n",
       "    .dataframe thead th {\n",
       "        text-align: right;\n",
       "    }\n",
       "</style>\n",
       "<table border=\"1\" class=\"dataframe\">\n",
       "  <thead>\n",
       "    <tr style=\"text-align: right;\">\n",
       "      <th></th>\n",
       "      <th>tobs</th>\n",
       "    </tr>\n",
       "    <tr>\n",
       "      <th>date</th>\n",
       "      <th></th>\n",
       "    </tr>\n",
       "  </thead>\n",
       "  <tbody>\n",
       "    <tr>\n",
       "      <th>2016-08-23</th>\n",
       "      <td>77.0</td>\n",
       "    </tr>\n",
       "    <tr>\n",
       "      <th>2016-08-24</th>\n",
       "      <td>77.0</td>\n",
       "    </tr>\n",
       "    <tr>\n",
       "      <th>2016-08-25</th>\n",
       "      <td>80.0</td>\n",
       "    </tr>\n",
       "    <tr>\n",
       "      <th>2016-08-26</th>\n",
       "      <td>80.0</td>\n",
       "    </tr>\n",
       "    <tr>\n",
       "      <th>2016-08-27</th>\n",
       "      <td>75.0</td>\n",
       "    </tr>\n",
       "    <tr>\n",
       "      <th>...</th>\n",
       "      <td>...</td>\n",
       "    </tr>\n",
       "    <tr>\n",
       "      <th>2017-08-14</th>\n",
       "      <td>77.0</td>\n",
       "    </tr>\n",
       "    <tr>\n",
       "      <th>2017-08-15</th>\n",
       "      <td>77.0</td>\n",
       "    </tr>\n",
       "    <tr>\n",
       "      <th>2017-08-16</th>\n",
       "      <td>76.0</td>\n",
       "    </tr>\n",
       "    <tr>\n",
       "      <th>2017-08-17</th>\n",
       "      <td>76.0</td>\n",
       "    </tr>\n",
       "    <tr>\n",
       "      <th>2017-08-18</th>\n",
       "      <td>79.0</td>\n",
       "    </tr>\n",
       "  </tbody>\n",
       "</table>\n",
       "<p>352 rows × 1 columns</p>\n",
       "</div>"
      ],
      "text/plain": [
       "            tobs\n",
       "date            \n",
       "2016-08-23  77.0\n",
       "2016-08-24  77.0\n",
       "2016-08-25  80.0\n",
       "2016-08-26  80.0\n",
       "2016-08-27  75.0\n",
       "...          ...\n",
       "2017-08-14  77.0\n",
       "2017-08-15  77.0\n",
       "2017-08-16  76.0\n",
       "2017-08-17  76.0\n",
       "2017-08-18  79.0\n",
       "\n",
       "[352 rows x 1 columns]"
      ]
     },
     "execution_count": 175,
     "metadata": {},
     "output_type": "execute_result"
    }
   ],
   "source": [
    "activestationlastyeardf = pd.DataFrame(activestationlastyear)\n",
    "activestationlastyeardf.set_index(\"date\", inplace=True)\n",
    "activestationlastyeardf.dropna(inplace=True)\n",
    "activestationlastyeardf"
   ]
  },
  {
   "cell_type": "code",
   "execution_count": 176,
   "metadata": {},
   "outputs": [
    {
     "data": {
      "image/png": "[encoded data removed]",
      "text/plain": [
       "<Figure size 432x288 with 1 Axes>"
      ]
     },
     "metadata": {},
     "output_type": "display_data"
    }
   ],
   "source": [
    "#create histogram\n",
    "plt.hist(activestationlastyeardf)\n",
    "plt.show() "
   ]
  },
  {
   "cell_type": "markdown",
   "metadata": {},
   "source": [
    "# Close session"
   ]
  },
  {
   "cell_type": "code",
   "execution_count": 188,
   "metadata": {},
   "outputs": [],
   "source": [
    "# Close Session\n",
    "session.close()"
   ]
  },
  {
   "cell_type": "code",
   "execution_count": null,
   "metadata": {},
   "outputs": [],
   "source": []
  }
 ],
 "metadata": {
  "anaconda-cloud": {},
  "kernel_info": {
   "name": "python3"
  },
  "kernelspec": {
   "display_name": "Python 3 (ipykernel)",
   "language": "python",
   "name": "python3"
  },
  "language_info": {
   "codemirror_mode": {
    "name": "ipython",
    "version": 3
   },
   "file_extension": ".py",
   "mimetype": "text/x-python",
   "name": "python",
   "nbconvert_exporter": "python",
   "pygments_lexer": "ipython3",
   "version": "3.9.12"
  },
  "nteract": {
   "version": "0.12.3"
  },
  "varInspector": {
   "cols": {
    "lenName": 16,
    "lenType": 16,
    "lenVar": 40
   },
   "kernels_config": {
    "python": {
     "delete_cmd_postfix": "",
     "delete_cmd_prefix": "del ",
     "library": "var_list.py",
     "varRefreshCmd": "print(var_dic_list())"
    },
    "r": {
     "delete_cmd_postfix": ") ",
     "delete_cmd_prefix": "rm(",
     "library": "var_list.r",
     "varRefreshCmd": "cat(var_dic_list()) "
    }
   },
   "types_to_exclude": [
    "module",
    "function",
    "builtin_function_or_method",
    "instance",
    "_Feature"
   ],
   "window_display": false
  }
 },
 "nbformat": 4,
 "nbformat_minor": 2
}
